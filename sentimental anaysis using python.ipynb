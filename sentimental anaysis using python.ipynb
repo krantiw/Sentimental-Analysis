{
 "cells": [
  {
   "cell_type": "code",
   "execution_count": null,
   "metadata": {},
   "outputs": [],
   "source": [
    "# sentimental anaysis using python"
   ]
  },
  {
   "cell_type": "code",
   "execution_count": 18,
   "metadata": {},
   "outputs": [],
   "source": [
    "import tweepy\n",
    "from textblob import TextBlob\n",
    "from wordcloud import WordCloud\n",
    "import pandas as pd\n",
    "import numpy as np\n",
    "import matplotlib.pyplot as plt\n",
    "import re"
   ]
  },
  {
   "cell_type": "code",
   "execution_count": null,
   "metadata": {},
   "outputs": [],
   "source": [
    "log= pd.read_csv(\"\") #get the data"
   ]
  },
  {
   "cell_type": "code",
   "execution_count": null,
   "metadata": {},
   "outputs": [],
   "source": [
    "#Twitter API credentials\n",
    "# consumer_key = log[key][0] #API key\n",
    "# consumer_secret = log[key][1] #API secret key\n",
    "# access_token = log[key][2]\n",
    "# access_token_secret= log[key][3]"
   ]
  },
  {
   "cell_type": "code",
   "execution_count": 19,
   "metadata": {},
   "outputs": [],
   "source": [
    "consumer_key =\"q0NejHvZ52ECbaoePYWvGun6e\" #API key\n",
    "consumer_secret =\"ZY0o6TzAz5DnMvAJMreKwj9Y2ezHWyJ7Nf5qBhydKKUkG3kLMP\" #API secret key\n",
    "access_token =\"1251791945929822208-B1yS5qwD11memF0zY1EwyQNUz3qCtj\"\n",
    "access_token_secret =\"wh7dEQARydEzPBRGADHyfB8uDGXKgM4dsuSXLvbUupTrm\""
   ]
  },
  {
   "cell_type": "code",
   "execution_count": 22,
   "metadata": {},
   "outputs": [],
   "source": [
    "auth= tweepy.OAuthHandler(consumer_key,consumer_secret) #create authentication object #authentication handler to be used\n",
    "auth.set_access_token(access_token,access_token_secret) #set the access token and access taken secret"
   ]
  },
  {
   "cell_type": "code",
   "execution_count": 21,
   "metadata": {},
   "outputs": [
    {
     "data": {
      "text/plain": [
       "<tweepy.api.API at 0x20768e10580>"
      ]
     },
     "execution_count": 21,
     "metadata": {},
     "output_type": "execute_result"
    }
   ],
   "source": [
    "api= tweepy.API(auth) #create connection between python & twitter by passing the auth info\n",
    "api"
   ]
  },
  {
   "cell_type": "code",
   "execution_count": 55,
   "metadata": {},
   "outputs": [],
   "source": [
    "#extract 100 tweets from twitter account\n",
    "post= api.user_timeline(screen_name=\"ISRO\",count=100, lang=\"en\",tweet_mode= \"extended\")\n"
   ]
  },
  {
   "cell_type": "code",
   "execution_count": 56,
   "metadata": {},
   "outputs": [
    {
     "name": "stdout",
     "output_type": "stream",
     "text": [
      "1)Join us during 09-11, November 2020 for live Webinar on Geoportals: Bhuvan, VEDAS &amp; MOSDAC\n",
      "\n",
      "Registration not required. Link for the webinar will be shared shortly. https://t.co/dhFXcpgIgb\n",
      "\n",
      "2)As part of 150th birth anniversary celebrations of Mahatma Gandhi, #ISRO organised webinar and conducted various events &amp; competitions for all employees.\n",
      "\n",
      "#Gandhi150 #Mahatma150 #MahatmaGandhi https://t.co/oFgvYrwg5j\n",
      "\n",
      "3)Department of Space and Department of Atomic Energy jointly organized Valedictory function of Vikram Sarabhai Centenary Programme  on September 25, 2020. Eminent speakers shared their association with Dr. Vikram Sarabhai.\n",
      "\n",
      "For Details visit: https://t.co/WEcjArBMhZ https://t.co/yao6Mv79sX\n",
      "\n",
      "4)Dr B N Suresh and Dr. K Sivan were awarded the prestigious IEEE 'Simon Ramo Medal' 2020 for their exemplary work in the field of systems engineering. \n",
      "\n",
      "#ISRO @ieee_section \n",
      "\n",
      "For details visit: https://t.co/RpBjG0UBiV https://t.co/LswiI15NTK\n",
      "\n",
      "5)Webinar on \"Harnessing the Potential of Remote Sensing Data\" is organised on September 29, 2020 at 1400 hrs (IST)\n",
      "\n",
      "Register at: https://t.co/bTjryox1sH\n",
      "\n",
      "For more details visit: https://t.co/KoLmkz7GXz https://t.co/LUswKGt2gP\n",
      "\n"
     ]
    }
   ],
   "source": [
    "i=1\n",
    "for tweet in post[0:5]:\n",
    "    print(str(i) +\")\" + tweet.full_text + \"\\n\")\n",
    "    i=i +1\n",
    "#     analysis= TextBlob(tweet.full_text+ \"\\n\")\n",
    "#     print(analysis.sentiment)"
   ]
  },
  {
   "cell_type": "code",
   "execution_count": 57,
   "metadata": {},
   "outputs": [],
   "source": [
    "#create a dataframe with new column tweet\n",
    "df= pd.DataFrame([tweet.full_text for tweet in post], columns= [\"TWEETS\"])"
   ]
  },
  {
   "cell_type": "code",
   "execution_count": 59,
   "metadata": {},
   "outputs": [
    {
     "data": {
      "text/html": [
       "<div>\n",
       "<style scoped>\n",
       "    .dataframe tbody tr th:only-of-type {\n",
       "        vertical-align: middle;\n",
       "    }\n",
       "\n",
       "    .dataframe tbody tr th {\n",
       "        vertical-align: top;\n",
       "    }\n",
       "\n",
       "    .dataframe thead th {\n",
       "        text-align: right;\n",
       "    }\n",
       "</style>\n",
       "<table border=\"1\" class=\"dataframe\">\n",
       "  <thead>\n",
       "    <tr style=\"text-align: right;\">\n",
       "      <th></th>\n",
       "      <th>TWEETS</th>\n",
       "    </tr>\n",
       "  </thead>\n",
       "  <tbody>\n",
       "    <tr>\n",
       "      <th>0</th>\n",
       "      <td>Join us during 09-11, November 2020 for live W...</td>\n",
       "    </tr>\n",
       "    <tr>\n",
       "      <th>1</th>\n",
       "      <td>As part of 150th birth anniversary celebration...</td>\n",
       "    </tr>\n",
       "    <tr>\n",
       "      <th>2</th>\n",
       "      <td>Department of Space and Department of Atomic E...</td>\n",
       "    </tr>\n",
       "    <tr>\n",
       "      <th>3</th>\n",
       "      <td>Dr B N Suresh and Dr. K Sivan were awarded the...</td>\n",
       "    </tr>\n",
       "    <tr>\n",
       "      <th>4</th>\n",
       "      <td>Webinar on \"Harnessing the Potential of Remote...</td>\n",
       "    </tr>\n",
       "  </tbody>\n",
       "</table>\n",
       "</div>"
      ],
      "text/plain": [
       "                                              TWEETS\n",
       "0  Join us during 09-11, November 2020 for live W...\n",
       "1  As part of 150th birth anniversary celebration...\n",
       "2  Department of Space and Department of Atomic E...\n",
       "3  Dr B N Suresh and Dr. K Sivan were awarded the...\n",
       "4  Webinar on \"Harnessing the Potential of Remote..."
      ]
     },
     "execution_count": 59,
     "metadata": {},
     "output_type": "execute_result"
    }
   ],
   "source": [
    "df.head()"
   ]
  },
  {
   "cell_type": "code",
   "execution_count": null,
   "metadata": {},
   "outputs": [],
   "source": [
    "# Create a  function to clean the data\n",
    "def clean\n"
   ]
  },
  {
   "cell_type": "code",
   "execution_count": 60,
   "metadata": {},
   "outputs": [
    {
     "name": "stderr",
     "output_type": "stream",
     "text": [
      "'pwd' is not recognized as an internal or external command,\n",
      "operable program or batch file.\n"
     ]
    }
   ],
   "source": [
    "!pwd\n"
   ]
  },
  {
   "cell_type": "code",
   "execution_count": null,
   "metadata": {},
   "outputs": [],
   "source": []
  },
  {
   "cell_type": "code",
   "execution_count": null,
   "metadata": {},
   "outputs": [],
   "source": []
  }
 ],
 "metadata": {
  "kernelspec": {
   "display_name": "Python 3",
   "language": "python",
   "name": "python3"
  },
  "language_info": {
   "codemirror_mode": {
    "name": "ipython",
    "version": 3
   },
   "file_extension": ".py",
   "mimetype": "text/x-python",
   "name": "python",
   "nbconvert_exporter": "python",
   "pygments_lexer": "ipython3",
   "version": "3.8.3"
  }
 },
 "nbformat": 4,
 "nbformat_minor": 4
}
