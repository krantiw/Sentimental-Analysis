{
 "cells": [
  {
   "cell_type": "markdown",
   "metadata": {},
   "source": [
    "# tweets of Amazon India and check the general public sentiment regarding it"
   ]
  },
  {
   "cell_type": "code",
   "execution_count": 3,
   "metadata": {},
   "outputs": [],
   "source": [
    "import tweepy\n",
    "from textblob import TextBlob\n"
   ]
  },
  {
   "cell_type": "code",
   "execution_count": 4,
   "metadata": {},
   "outputs": [],
   "source": [
    "consumer_key =\"q0NejHvZ52ECbaoePYWvGun6e\" #API key\n",
    "consumer_secret =\"ZY0o6TzAz5DnMvAJMreKwj9Y2ezHWyJ7Nf5qBhydKKUkG3kLMP\" #API secret key\n",
    "access_token =\"1251791945929822208-B1yS5qwD11memF0zY1EwyQNUz3qCtj\"\n",
    "access_token_secret =\"wh7dEQARydEzPBRGADHyfB8uDGXKgM4dsuSXLvbUupTrm\"\n",
    "\n"
   ]
  },
  {
   "cell_type": "code",
   "execution_count": 7,
   "metadata": {},
   "outputs": [],
   "source": [
    "auth= tweepy.OAuthHandler(consumer_key,consumer_secret) #create authentication object #authentication handler to be used\n",
    "auth.set_access_token(access_token,access_token_secret) #set the access token and access taken secret"
   ]
  },
  {
   "cell_type": "code",
   "execution_count": 9,
   "metadata": {},
   "outputs": [
    {
     "data": {
      "text/plain": [
       "<tweepy.api.API at 0x20764053f40>"
      ]
     },
     "execution_count": 9,
     "metadata": {},
     "output_type": "execute_result"
    }
   ],
   "source": [
    "api= tweepy.API(auth) #createconnection between python & twitter by passing the auth info\n",
    "api"
   ]
  },
  {
   "cell_type": "code",
   "execution_count": 19,
   "metadata": {},
   "outputs": [],
   "source": [
    "public_tweets = api.search(\"Amazon India\")"
   ]
  },
  {
   "cell_type": "code",
   "execution_count": 20,
   "metadata": {},
   "outputs": [
    {
     "name": "stdout",
     "output_type": "stream",
     "text": [
      "@amazonIN Dear AMAZON India your customer service is totally disappointing and pathetic, last week I had purchased… https://t.co/vvg2AJxcmc\n",
      "Sentiment(polarity=-0.5333333333333333, subjectivity=0.5888888888888889)\n",
      "#Mirzapur2review bosidiwalo sasur ko bap samaja jata hai or tum bahu ke sath sex dikha rahe ho, waise hi LADAKE Maa… https://t.co/RzSgcnUwyK\n",
      "Sentiment(polarity=0.0, subjectivity=0.0)\n",
      "RT @stufflistings: So, the OPPO F17 Pro Special Diwali Edition goes on sale today in India.\n",
      "Interested buyers can get their hands on the de…\n",
      "Sentiment(polarity=0.3035714285714286, subjectivity=0.5357142857142857)\n",
      "RT @priyankachopra: Wow! #1 Best Seller in Biographies &amp; Autobiographies on @amazon in India! 🙏🏽 This is unreal. Thank you, thank you! http…\n",
      "Sentiment(polarity=0.5625, subjectivity=0.65)\n",
      "RT @amazonIN: Steal a deal and take an Amazon Gift Card home!* Tell us in the comments below any tag us! \n",
      "HINT: Check out Big Deals on http…\n",
      "Sentiment(polarity=0.0, subjectivity=0.1)\n",
      "Google should have gone with AMAZON which is mich better and google as it is does not care about customers in India like at all\n",
      "Sentiment(polarity=0.5, subjectivity=0.5)\n",
      "RT @amazonIN: Steal a deal and take an Amazon Gift Card home!* Tell us in the comments below any tag us! \n",
      "HINT: Check out Big Deals on http…\n",
      "Sentiment(polarity=0.0, subjectivity=0.1)\n",
      "RT @amazonIN: What product fits in the box? Comment below with the right answer &amp; #AmazonGreatIndianFestival to bring home an Amazon Gift C…\n",
      "Sentiment(polarity=0.2857142857142857, subjectivity=0.5357142857142857)\n",
      "RT @TimGurung: Good News! -As demanded by the situation, my publisher Penguin SEA has made my new Gurkha book available in ebook. Readers f…\n",
      "Sentiment(polarity=0.4704545454545454, subjectivity=0.48484848484848486)\n",
      "RT @amazonIN: Steal a deal and take an Amazon Gift Card home!* Tell us in the comments below any tag us! \n",
      "HINT: Check out Big Deals on http…\n",
      "Sentiment(polarity=0.0, subjectivity=0.1)\n",
      "@iAsura_ Biyani wants to bring 7 eleven stores to India .... He says alone bombay can accommodate 7000 and more of… https://t.co/SOHa69hNlv\n",
      "Sentiment(polarity=0.35, subjectivity=0.3)\n",
      "RT @amazonIN: Steal a deal and take an Amazon Gift Card home!* Tell us in the comments below any tag us! \n",
      "HINT: Check out Big Deals on http…\n",
      "Sentiment(polarity=0.0, subjectivity=0.1)\n",
      "RT @amazonIN: Steal a deal and take an Amazon Gift Card home!* Tell us in the comments below any tag us! \n",
      "HINT: Check out Big Deals on http…\n",
      "Sentiment(polarity=0.0, subjectivity=0.1)\n",
      "RT @amazonIN: Steal a deal and take an Amazon Gift Card home!* Tell us in the comments below any tag us! \n",
      "HINT: Check out Big Deals on http…\n",
      "Sentiment(polarity=0.0, subjectivity=0.1)\n",
      "RT @amazonIN: Steal a deal and take an Amazon Gift Card home!* Tell us in the comments below any tag us! \n",
      "HINT: Check out Big Deals on http…\n",
      "Sentiment(polarity=0.0, subjectivity=0.1)\n"
     ]
    }
   ],
   "source": [
    "for tweet in public_tweets:\n",
    "    print(tweet.text)\n",
    "    analysis= TextBlob(tweet.text)\n",
    "    print(analysis.sentiment)\n",
    "  "
   ]
  },
  {
   "cell_type": "code",
   "execution_count": null,
   "metadata": {},
   "outputs": [],
   "source": [
    "# polarity signify how positive or negative the statement is.\n",
    "# subjectivity expresses personal feelings, views, beliefs,desires"
   ]
  }
 ],
 "metadata": {
  "kernelspec": {
   "display_name": "Python 3",
   "language": "python",
   "name": "python3"
  },
  "language_info": {
   "codemirror_mode": {
    "name": "ipython",
    "version": 3
   },
   "file_extension": ".py",
   "mimetype": "text/x-python",
   "name": "python",
   "nbconvert_exporter": "python",
   "pygments_lexer": "ipython3",
   "version": "3.8.3"
  },
  "toc": {
   "base_numbering": 1,
   "nav_menu": {},
   "number_sections": true,
   "sideBar": true,
   "skip_h1_title": false,
   "title_cell": "Table of Contents",
   "title_sidebar": "Contents",
   "toc_cell": false,
   "toc_position": {},
   "toc_section_display": true,
   "toc_window_display": true
  }
 },
 "nbformat": 4,
 "nbformat_minor": 4
}
