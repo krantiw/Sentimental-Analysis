{
 "cells": [
  {
   "cell_type": "markdown",
   "metadata": {},
   "source": [
    "# tweets of Amazon Help and check the general public sentiment regarding it"
   ]
  },
  {
   "cell_type": "code",
   "execution_count": 2,
   "metadata": {},
   "outputs": [],
   "source": [
    "import tweepy\n",
    "from textblob import TextBlob\n"
   ]
  },
  {
   "cell_type": "code",
   "execution_count": 3,
   "metadata": {},
   "outputs": [],
   "source": [
    "consumer_key =\"q0NejHvZ52ECbaoePYWvGun6e\" #API key\n",
    "consumer_secret =\"ZY0o6TzAz5DnMvAJMreKwj9Y2ezHWyJ7Nf5qBhydKKUkG3kLMP\" #API secret key\n",
    "access_token =\"1251791945929822208-B1yS5qwD11memF0zY1EwyQNUz3qCtj\"\n",
    "access_token_secret =\"wh7dEQARydEzPBRGADHyfB8uDGXKgM4dsuSXLvbUupTrm\"\n",
    "\n"
   ]
  },
  {
   "cell_type": "code",
   "execution_count": 4,
   "metadata": {},
   "outputs": [],
   "source": [
    "auth= tweepy.OAuthHandler(consumer_key,consumer_secret) #create authentication object #authentication handler to be used\n",
    "auth.set_access_token(access_token,access_token_secret) #set the access token and access taken secret"
   ]
  },
  {
   "cell_type": "code",
   "execution_count": 5,
   "metadata": {},
   "outputs": [
    {
     "data": {
      "text/plain": [
       "<tweepy.api.API at 0x1bfaf358b80>"
      ]
     },
     "execution_count": 5,
     "metadata": {},
     "output_type": "execute_result"
    }
   ],
   "source": [
    "api= tweepy.API(auth) #createconnection between python & twitter by passing the auth info\n",
    "api"
   ]
  },
  {
   "cell_type": "code",
   "execution_count": 15,
   "metadata": {},
   "outputs": [],
   "source": [
    "public_tweets = api.search(\"Amazon Help\")"
   ]
  },
  {
   "cell_type": "code",
   "execution_count": 16,
   "metadata": {},
   "outputs": [
    {
     "name": "stdout",
     "output_type": "stream",
     "text": [
      "1)My account is in good health and my customers are satisfied with us. My only income is this store and I am extremel… https://t.co/lD7IGGMBfa\n",
      "Sentiment(polarity=0.39999999999999997, subjectivity=0.8666666666666667)\n",
      "\n",
      "\n",
      "2)RT @nickynenkov: nancy bass wyden, who wrote this letter, (1) owns the strand+the building, (2) laid off over 150 employees, (3) applied fo…\n",
      "Sentiment(polarity=-0.15000000000000002, subjectivity=0.5)\n",
      "\n",
      "\n",
      "3)@MiiCraft I bought the resin on amazon ELEGOO LCD UV 405nm Resina Rapida per Stampante 3D LCD 1000g Resina Fotopoli… https://t.co/GFyCJexFvo\n",
      "Sentiment(polarity=0.0, subjectivity=0.0)\n",
      "\n",
      "\n",
      "4)I support #firebreak but closing aisles of a shop that's open is a head scratcher @fmwales. Aren't clothes essentia… https://t.co/h8cimxkiCK\n",
      "Sentiment(polarity=0.0, subjectivity=0.5)\n",
      "\n",
      "\n",
      "5)@clean_sanchez1 Sorry my mistake. In this case if you contact us here: https://t.co/JzP7hlA23B, we'll be able to ta… https://t.co/ncYqiAkgOJ\n",
      "Sentiment(polarity=0.0, subjectivity=0.8125)\n",
      "\n",
      "\n",
      "6)@Jeffrey16259466 We're sorry to hear this. Please check out this page: https://t.co/1tdgLeCTNO for some helpful tip… https://t.co/v6i47aoBn2\n",
      "Sentiment(polarity=-0.5, subjectivity=1.0)\n",
      "\n",
      "\n",
      "7)Hey, Do you need to buy best reviewed and consumer from Amazon? Affidor will help you to buy this product from Amaz… https://t.co/Yl3Khm5MpF\n",
      "Sentiment(polarity=1.0, subjectivity=0.3)\n",
      "\n",
      "\n",
      "8)@ArishaUsman2 Congrats on your followers, Arisha!!\n",
      "\n",
      "\"Ups and Downs\": A romantic novella. Carol's company faces disa… https://t.co/RtEjYTSDeK\n",
      "Sentiment(polarity=0.0, subjectivity=0.5)\n",
      "\n",
      "\n",
      "9)@Neotenyx Thanks Dave!\n",
      "\n",
      "\"Ups and Downs\": A romantic novella. Carol's company faces disaster &amp; the one person who ca… https://t.co/B2xjicfFsL\n",
      "Sentiment(polarity=0.125, subjectivity=0.35)\n",
      "\n",
      "\n",
      "10)RT @nickynenkov: nancy bass wyden, who wrote this letter, (1) owns the strand+the building, (2) laid off over 150 employees, (3) applied fo…\n",
      "Sentiment(polarity=-0.15000000000000002, subjectivity=0.5)\n",
      "\n",
      "\n",
      "11)@m552_h Sorry to hear. Please reach out here: https://t.co/JzP7hlA23B, for further assistance.^ES\n",
      "Sentiment(polarity=-0.25, subjectivity=0.75)\n",
      "\n",
      "\n",
      "12)@ScarlettSabre83 🙏🏻🙏🏻🙏🏻Thank you for your great support. My books are now available on Amazon. Just type in The Tru… https://t.co/H33NqGcgHy\n",
      "Sentiment(polarity=0.6000000000000001, subjectivity=0.575)\n",
      "\n",
      "\n",
      "13)@LaraRouseWrites Thanks Lara!\n",
      "\n",
      "\"Ups and Downs\": A romantic novella. Carol's company faces disaster &amp; the one person… https://t.co/YfyK1n26oC\n",
      "Sentiment(polarity=0.125, subjectivity=0.35)\n",
      "\n",
      "\n",
      "14)RT @PriyaTew: Excited to announce that I’ve a book coming out on the Dash Diet: The DASH Diet: Lower your blood pressure, help your #hearth…\n",
      "Sentiment(polarity=0.375, subjectivity=0.75)\n",
      "\n",
      "\n",
      "15)@SgMinae Thanks SG!!\n",
      "\n",
      "\"Ups and Downs\": A romantic novella. Carol's company faces disaster &amp; the one person who can… https://t.co/LCikds2dhL\n",
      "Sentiment(polarity=0.15625, subjectivity=0.35)\n",
      "\n",
      "\n"
     ]
    }
   ],
   "source": [
    "i=1\n",
    "for tweet in public_tweets:\n",
    "    print(str(i) +\")\" +  tweet.text)\n",
    "    i= i+1\n",
    "    analysis= TextBlob(tweet.text)\n",
    "    print(analysis.sentiment)\n",
    "    print(\"\\n\")\n",
    "  "
   ]
  },
  {
   "cell_type": "code",
   "execution_count": null,
   "metadata": {},
   "outputs": [],
   "source": [
    "# polarity signify how positive or negative the statement is.\n",
    "# subjectivity expresses personal feelings, views, beliefs,desires"
   ]
  }
 ],
 "metadata": {
  "kernelspec": {
   "display_name": "Python 3",
   "language": "python",
   "name": "python3"
  },
  "language_info": {
   "codemirror_mode": {
    "name": "ipython",
    "version": 3
   },
   "file_extension": ".py",
   "mimetype": "text/x-python",
   "name": "python",
   "nbconvert_exporter": "python",
   "pygments_lexer": "ipython3",
   "version": "3.8.3"
  },
  "toc": {
   "base_numbering": 1,
   "nav_menu": {},
   "number_sections": true,
   "sideBar": true,
   "skip_h1_title": false,
   "title_cell": "Table of Contents",
   "title_sidebar": "Contents",
   "toc_cell": false,
   "toc_position": {},
   "toc_section_display": true,
   "toc_window_display": true
  }
 },
 "nbformat": 4,
 "nbformat_minor": 4
}
